{
 "cells": [
  {
   "cell_type": "code",
   "execution_count": 1,
   "metadata": {},
   "outputs": [],
   "source": [
    "import numpy as np\n",
    "from matplotlib import pyplot as plt\n",
    "\n",
    "import sys\n",
    "from pathlib import Path\n",
    "import shutil\n",
    "import timeit\n",
    "import pickle\n",
    "from copy import deepcopy\n",
    "import math"
   ]
  },
  {
   "cell_type": "code",
   "execution_count": 2,
   "metadata": {},
   "outputs": [],
   "source": [
    "util_dir = Path.cwd().parent.joinpath('Utility')\n",
    "sys.path.insert(1, str(util_dir))\n",
    "from Information import *\n",
    "from HitGenerators import Event_V2 as Event"
   ]
  },
  {
   "cell_type": "code",
   "execution_count": 3,
   "metadata": {},
   "outputs": [
    {
     "name": "stdout",
     "output_type": "stream",
     "text": [
      "[INFO]: Getting ids for event: 933/933\n",
      "[INFO]: Constructing iterators\n",
      "[INFO]: Getting StrawHits\n"
     ]
    }
   ],
   "source": [
    "dp_list = ['train_CeEndpoint-mix-fromCSV_1',\\\n",
    "                'train_CeEndpoint-mix-fromCSV_3',\\\n",
    "                'train_CeEndpoint-mix-fromCSV_2',\\\n",
    "                'train_CeEndpoint-mix-fromCSV_4',\\\n",
    "                'train_CeEndpoint-mix-fromCSV_5',\\\n",
    "                'train_CeEndpoint-mix-fromCSV_6']\n",
    "track_dir = Path.cwd().parent.parent.joinpath('tracks')\n",
    "db_files = [track_dir.joinpath(dp+'.db') for dp in dp_list]\n",
    "gen = Event(db_files=db_files, hitNumCut=10)"
   ]
  },
  {
   "cell_type": "code",
   "execution_count": 4,
   "metadata": {},
   "outputs": [
    {
     "name": "stdout",
     "output_type": "stream",
     "text": [
      "\n",
      "[INFO]: Run out of particles\n",
      "[INFO]: Connecting to the next track database\n",
      "[INFO]: Getting ids for event: 932/932\n",
      "[INFO]: Constructing iterators\n",
      "[INFO]: Getting StrawHits\n"
     ]
    }
   ],
   "source": [
    "delta_ts = []\n",
    "for i in range(1000):\n",
    "    hit_all, track_all = gen.generate(mode='eval')\n",
    "    for trkIdx, hitIdcPdgId in track_all.items():\n",
    "        hitIdc = hitIdcPdgId[:-1]\n",
    "        hitsPerTrack = [hit_all[idx] for idx in hitIdc]\n",
    "        ts = [hit[3] for hit in hitsPerTrack]\n",
    "        delta_t = max(ts)-min(ts)\n",
    "        if delta_t > 100:\n",
    "            continue\n",
    "        delta_ts.append(delta_t)"
   ]
  },
  {
   "cell_type": "code",
   "execution_count": 5,
   "metadata": {},
   "outputs": [
    {
     "data": {
      "image/png": "[encoded data removed]",
      "text/plain": [
       "<Figure size 432x288 with 1 Axes>"
      ]
     },
     "metadata": {
      "needs_background": "light"
     },
     "output_type": "display_data"
    }
   ],
   "source": [
    "plt.hist(delta_ts)\n",
    "plt.show()"
   ]
  },
  {
   "cell_type": "code",
   "execution_count": null,
   "metadata": {},
   "outputs": [],
   "source": []
  }
 ],
 "metadata": {
  "kernelspec": {
   "display_name": "Python 3",
   "language": "python",
   "name": "python3"
  },
  "language_info": {
   "codemirror_mode": {
    "name": "ipython",
    "version": 3
   },
   "file_extension": ".py",
   "mimetype": "text/x-python",
   "name": "python",
   "nbconvert_exporter": "python",
   "pygments_lexer": "ipython3",
   "version": "3.6.8"
  }
 },
 "nbformat": 4,
 "nbformat_minor": 4
}
